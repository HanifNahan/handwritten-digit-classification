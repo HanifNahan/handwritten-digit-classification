{
 "cells": [
  {
   "cell_type": "code",
   "execution_count": 14,
   "metadata": {},
   "outputs": [],
   "source": [
    "import keras\n",
    "from keras.datasets import mnist\n",
    "from keras.models import Sequential\n",
    "from keras.layers import Dense, Dropout, Flatten\n",
    "from keras.layers import Conv2D, MaxPooling2D"
   ]
  },
  {
   "cell_type": "code",
   "execution_count": 2,
   "metadata": {},
   "outputs": [],
   "source": [
    "(x_train, y_train), (x_test, y_test) = mnist.load_data()"
   ]
  },
  {
   "cell_type": "code",
   "execution_count": 3,
   "metadata": {},
   "outputs": [],
   "source": [
    "x_train = x_train.reshape(x_train.shape[0], 28, 28, 1)\n",
    "x_test = x_test.reshape(x_test.shape[0], 28, 28, 1)"
   ]
  },
  {
   "cell_type": "code",
   "execution_count": 4,
   "metadata": {},
   "outputs": [],
   "source": [
    "y_train = keras.utils.to_categorical(y_train, dtype='float32')\n",
    "y_test = keras.utils.to_categorical(y_test, dtype='float32')"
   ]
  },
  {
   "cell_type": "code",
   "execution_count": 5,
   "metadata": {},
   "outputs": [],
   "source": [
    "x_train = x_train.astype('float32')\n",
    "x_test = x_test.astype('float32')\n",
    "x_train /= 255\n",
    "x_test /= 255"
   ]
  },
  {
   "cell_type": "code",
   "execution_count": 6,
   "metadata": {},
   "outputs": [],
   "source": [
    "model = keras.Sequential([\n",
    "    Conv2D(32, kernel_size=(3, 3),activation='relu',input_shape=(28,28,1)),\n",
    "    Conv2D(64, (3, 3), activation='relu'),\n",
    "    MaxPooling2D(pool_size=(2, 2)),\n",
    "    Dropout(0.25),\n",
    "    Flatten(),\n",
    "    Dense(256, activation='relu'),\n",
    "    Dropout(0.5),\n",
    "    Dense(10, activation='softmax')\n",
    "])"
   ]
  },
  {
   "cell_type": "code",
   "execution_count": 9,
   "metadata": {},
   "outputs": [],
   "source": [
    "model.compile(loss='categorical_crossentropy', optimizer='adam', metrics=['accuracy'])"
   ]
  },
  {
   "cell_type": "code",
   "execution_count": 10,
   "metadata": {},
   "outputs": [
    {
     "name": "stdout",
     "output_type": "stream",
     "text": [
      "Epoch 1/10\n",
      "469/469 [==============================] - 62s 132ms/step - loss: 0.1998 - accuracy: 0.9376 - val_loss: 0.0486 - val_accuracy: 0.9845\n",
      "Epoch 2/10\n",
      "469/469 [==============================] - 63s 135ms/step - loss: 0.0684 - accuracy: 0.9793 - val_loss: 0.0388 - val_accuracy: 0.9871\n",
      "Epoch 3/10\n",
      "469/469 [==============================] - 63s 134ms/step - loss: 0.0502 - accuracy: 0.9844 - val_loss: 0.0354 - val_accuracy: 0.9875\n",
      "Epoch 4/10\n",
      "469/469 [==============================] - 64s 137ms/step - loss: 0.0394 - accuracy: 0.9874 - val_loss: 0.0311 - val_accuracy: 0.9897\n",
      "Epoch 5/10\n",
      "469/469 [==============================] - 64s 137ms/step - loss: 0.0332 - accuracy: 0.9890 - val_loss: 0.0259 - val_accuracy: 0.9916\n",
      "Epoch 6/10\n",
      "469/469 [==============================] - 65s 138ms/step - loss: 0.0267 - accuracy: 0.9913 - val_loss: 0.0259 - val_accuracy: 0.9918\n",
      "Epoch 7/10\n",
      "469/469 [==============================] - 68s 144ms/step - loss: 0.0231 - accuracy: 0.9925 - val_loss: 0.0238 - val_accuracy: 0.9923\n",
      "Epoch 8/10\n",
      "469/469 [==============================] - 65s 138ms/step - loss: 0.0223 - accuracy: 0.9929 - val_loss: 0.0250 - val_accuracy: 0.9919\n",
      "Epoch 9/10\n",
      "469/469 [==============================] - 67s 143ms/step - loss: 0.0196 - accuracy: 0.9931 - val_loss: 0.0283 - val_accuracy: 0.9917\n",
      "Epoch 10/10\n",
      "469/469 [==============================] - 65s 138ms/step - loss: 0.0170 - accuracy: 0.9943 - val_loss: 0.0282 - val_accuracy: 0.9926\n"
     ]
    },
    {
     "data": {
      "text/plain": [
       "<keras.callbacks.History at 0x1f4e4428880>"
      ]
     },
     "execution_count": 10,
     "metadata": {},
     "output_type": "execute_result"
    }
   ],
   "source": [
    "model.fit(x_train, y_train,batch_size=128, epochs=10,verbose=1, validation_data=(x_test, y_test))"
   ]
  },
  {
   "cell_type": "code",
   "execution_count": 11,
   "metadata": {},
   "outputs": [],
   "source": [
    "model.save('mnist.h5')"
   ]
  },
  {
   "cell_type": "code",
   "execution_count": 13,
   "metadata": {},
   "outputs": [
    {
     "name": "stdout",
     "output_type": "stream",
     "text": [
      "Loss: 0.028192779049277306\n",
      "Accuracy: 0.9926000237464905\n"
     ]
    }
   ],
   "source": [
    "score = model.evaluate(x_test, y_test, verbose=0)\n",
    "print(f'Loss: {score[0]}')\n",
    "print(f'Accuracy: {score[1]}')"
   ]
  }
 ],
 "metadata": {
  "kernelspec": {
   "display_name": "Python 3.10.5 64-bit",
   "language": "python",
   "name": "python3"
  },
  "language_info": {
   "codemirror_mode": {
    "name": "ipython",
    "version": 3
   },
   "file_extension": ".py",
   "mimetype": "text/x-python",
   "name": "python",
   "nbconvert_exporter": "python",
   "pygments_lexer": "ipython3",
   "version": "3.10.5"
  },
  "orig_nbformat": 4,
  "vscode": {
   "interpreter": {
    "hash": "229cdfb8eedfa4964725b7eb0da8d7a63b25d97a6ab808f09bd6b506844c0629"
   }
  }
 },
 "nbformat": 4,
 "nbformat_minor": 2
}
